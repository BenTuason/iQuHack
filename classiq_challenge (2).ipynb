{
 "cells": [
  {
   "cell_type": "markdown",
   "metadata": {},
   "source": [
    "# Classiq Challenge - Quantum Arithmetics"
   ]
  },
  {
   "cell_type": "markdown",
   "metadata": {},
   "source": [
    "Welcome to the Classiq challenge of the 2024 MIT IQuHack hackathon!\n",
    "This Jupyter notebook is the framework for the challenge and you should follow it in order to solve it using Classiq (alongside the guidelines of the challenge).\n",
    "\n",
    "The notebook has 3 parts:\n",
    "1. A warm up session, just to get up to speed with a small example of Classiq\n",
    "2. The challenge itself, including what you need to create, what's the format, and how you can check yourself\n",
    "3. A cheat sheet with relevant Classiq functions declarations\n",
    "\n",
    "Additional resources you should use are\n",
    "- The IDE of the classiq platform at [platform.classiq.io](platform.classiq.io)\n",
    "- The [community Slack of Classiq](https://short.classiq.io/join-slack) - Classiq's team will answer any question you have over there, including implementation questions\n",
    "- [Classiq's documentation](https://docs.classiq.io/latest/user-guide/platform/) with the dedicated [Python SDK explanations](https://docs.classiq.io/latest/user-guide/platform/qmod/python/functions/)\n",
    "\n",
    "Good luck!"
   ]
  },
  {
   "cell_type": "markdown",
   "metadata": {},
   "source": [
    "![MITClassiq](data:image/png;base64,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)"
   ]
  },
  {
   "cell_type": "markdown",
   "metadata": {},
   "source": [
    "## Warm Up"
   ]
  },
  {
   "cell_type": "markdown",
   "metadata": {},
   "source": [
    "Firstly, if you haven't done so far, you need to install the Classiq SDK package: "
   ]
  },
  {
   "cell_type": "code",
   "execution_count": null,
   "metadata": {},
   "outputs": [],
   "source": [
    "!pip install -U classiq"
   ]
  },
  {
   "cell_type": "markdown",
   "metadata": {},
   "source": [
    "and to authenticate your device against the Classiq backend:"
   ]
  },
  {
   "cell_type": "code",
   "execution_count": null,
   "metadata": {},
   "outputs": [],
   "source": [
    "import classiq\n",
    "classiq.authenticate()"
   ]
  },
  {
   "cell_type": "markdown",
   "metadata": {},
   "source": [
    "Let's create a uniform superposition of numbers in the domain $[0,1)$ with equal spacing of $\\frac{1}{2^K}$ for $K=5$:"
   ]
  },
  {
   "cell_type": "code",
   "execution_count": 20,
   "metadata": {},
   "outputs": [
    {
     "name": "stdout",
     "output_type": "stream",
     "text": [
      "Opening: https://platform.classiq.io/circuit/6386c15e-d99a-4699-b972-5c3902942a98?version=0.36.1\n"
     ]
    }
   ],
   "source": [
    "from classiq import *\n",
    "K =5\n",
    "\n",
    "@QFunc\n",
    "def main(x:Output[QNum]):\n",
    "    allocate_num(num_qubits=K, is_signed=False, fraction_digits=K,out=x)\n",
    "    hadamard_transform(x)\n",
    "\n",
    "quantum_model = create_model(main)\n",
    "quantum_program = synthesize(quantum_model)\n",
    "\n",
    "show(quantum_program) # view the circuit in the IDE\n",
    "\n",
    "job = execute(quantum_program)\n",
    "# job.open_in_ide() # view the resulted histogram in the IDE"
   ]
  },
  {
   "cell_type": "markdown",
   "metadata": {},
   "source": [
    "That's cool right? :)\n",
    "\n",
    "If you are more a Python person, this is how you can post-process your results:"
   ]
  },
  {
   "cell_type": "code",
   "execution_count": null,
   "metadata": {},
   "outputs": [],
   "source": [
    "parsed_counts = results.result()[0].value.parsed_counts\n",
    "sorted_counts = sorted(parsed_counts, key=lambda x: x.state[\"x\"])\n",
    "for state_counts in sorted_counts: print('State: ', state_counts.state, '| Shots: ', state_counts.shots)"
   ]
  },
  {
   "cell_type": "markdown",
   "metadata": {},
   "source": [
    "## The Challenge Itself"
   ]
  },
  {
   "cell_type": "markdown",
   "metadata": {},
   "source": [
    "### Imports"
   ]
  },
  {
   "cell_type": "code",
   "execution_count": 2,
   "metadata": {},
   "outputs": [],
   "source": [
    "# All the imports needed\n",
    "from classiq import *\n",
    "\n",
    "from classiq.interface.backend.backend_preferences import ClassiqBackendPreferences\n",
    "from classiq.interface.executor.execution_preferences import ExecutionPreferences\n",
    "from classiq.interface.model.model import Model as Model_Designer\n",
    "\n",
    "import numpy as np\n",
    "import json"
   ]
  },
  {
   "cell_type": "markdown",
   "metadata": {},
   "source": [
    "### The Heart of the Code - Build Your Algorithm Here"
   ]
  },
  {
   "cell_type": "code",
   "execution_count": 425,
   "metadata": {
    "scrolled": true
   },
   "outputs": [
    {
     "name": "stdout",
     "output_type": "stream",
     "text": [
      "1.0625\n"
     ]
    }
   ],
   "source": [
    "# The functions you need go here\n",
    "def approx(n,p):\n",
    "  x = 1\n",
    "  terms = []\n",
    "  for _ in range(p):\n",
    "    if n >= x:\n",
    "      terms.append(x)\n",
    "      n -= x\n",
    "    x /= 2\n",
    "#   print('+'.join(str(t) for t in terms))\n",
    "  return sum(terms)\n",
    "\n",
    "print(approx(1.07255, 6))"
   ]
  },
  {
   "cell_type": "code",
   "execution_count": 426,
   "metadata": {},
   "outputs": [],
   "source": [
    "# The heart of the code - the function that calculates the hyperbolic tangent\n",
    "@QFunc\n",
    "def compute_tanh(precision: QParam[int],    # The precision of x and tanh_x - how many fraction digits will represent your solution\n",
    "                 x: QNum,                   # A quantum variable that is represents numbers\n",
    "                 tanh_x: Output[QNum]       # The output of the function, which means it needs to be initialized within the scope of the function\n",
    "                 ):\n",
    "    \n",
    "#     tanh_x|=x-(0.333*x**3)*(0.133*x**5)-(0.054*x**7) \n",
    "    tanh_x|=x-.25*x**2+0.015625 #(0.0717, 0.0484) \n",
    "#     tanh_x|=1.125*x-0.375*1*x**2 #(0.0614, -)\n",
    "#     tanh_x|=0.0078125 + 1.09375*x - 0.328125*1*x**2 #(-, 0.0536)\n",
    "    \n",
    "    # piecewise version:\n",
    "#     if 0<=x and x<0.25:\n",
    "#         tanh_x|= -0.09375*x**2 + x\n",
    "#     elif x<0.5: \n",
    "#         tanh_x|= -0.21875*x**2 + 1.03125*x\n",
    "#     elif x<0.625:\n",
    "#         tanh_x|= -0.28125*x**2 + 1.0625*x\n",
    "#     elif x<0.75:\n",
    "#         tanh_x|= -0.3125*x**2 + 1.078125*x\n",
    "#     elif x<=1:\n",
    "#         tanh_x|= -0.328125*x**2 + 1.09375*x           \n",
    "    \n",
    "\n",
    "    \n",
    "    "
   ]
  },
  {
   "cell_type": "code",
   "execution_count": 427,
   "metadata": {},
   "outputs": [],
   "source": [
    "# Your precision value\n",
    "precision = 4"
   ]
  },
  {
   "cell_type": "code",
   "execution_count": 428,
   "metadata": {},
   "outputs": [
    {
     "name": "stdout",
     "output_type": "stream",
     "text": [
      "Opening: https://platform.classiq.io/circuit/4c03b8fe-0476-48b1-8209-c119649320b1?version=0.36.1\n"
     ]
    }
   ],
   "source": [
    "# Do not change this part of the code !\n",
    "\n",
    "@QFunc\n",
    "def main(x: Output[QNum],y: Output[QNum]):\n",
    "\n",
    "    # A quantum variable which represents numbers is initialized\n",
    "    allocate_num(num_qubits=precision,      \n",
    "                is_signed=False,            \n",
    "                fraction_digits=precision,\n",
    "                out=x)\n",
    "    \n",
    "    # Initalizing over all possible values of the quantum number with the hadamard transform\n",
    "    hadamard_transform(x)\n",
    "\n",
    "    # Computing your compute_tanh function\n",
    "    compute_tanh(precision,x,y)\n",
    "\n",
    "# Generating the model itslef\n",
    "qmod = create_model(main)\n",
    "qprog = synthesize(qmod)\n",
    "show(qprog)"
   ]
  },
  {
   "cell_type": "markdown",
   "metadata": {},
   "source": [
    "### Saving the Files - What You Need To Submit"
   ]
  },
  {
   "cell_type": "markdown",
   "metadata": {},
   "source": [
    "First, define the precisions of your solutions:"
   ]
  },
  {
   "cell_type": "code",
   "execution_count": 429,
   "metadata": {},
   "outputs": [],
   "source": [
    "#Precision values stages 1&2 - You need to enter these values in Google Form submission\n",
    "precision_value_stage_1 = 5\n",
    "precision_value_stage_2 = 8"
   ]
  },
  {
   "cell_type": "markdown",
   "metadata": {},
   "source": [
    "Then we can create adapted quantum models for the two stages according to the corresponding precisions and constraints:"
   ]
  },
  {
   "cell_type": "code",
   "execution_count": 430,
   "metadata": {},
   "outputs": [],
   "source": [
    "def get_model_with_new_precision(qmod, new_precision):\n",
    "    '''\n",
    "    The function adapts the precision value in the qmod according to the new precision value given.\n",
    "    '''\n",
    "    \n",
    "    @QFunc\n",
    "    def compute_tanh(\n",
    "        precision: QParam[int],\n",
    "        x: QNum,\n",
    "        tanh_x: Output[QNum],\n",
    "    ):\n",
    "        # dummy implementation\n",
    "        allocate_num(precision, False, precision, tanh_x)\n",
    "\n",
    "    @QFunc\n",
    "    def main(x: Output[QNum], y: Output[QNum]):\n",
    "        allocate_num(new_precision, False, new_precision, x)\n",
    "        hadamard_transform(x)\n",
    "        compute_tanh(new_precision, x, y)\n",
    "\n",
    "    new_main = main.create_model().main_func\n",
    "    parsed_qmod = Model_Designer.parse_obj(json.loads(qmod))\n",
    "    new_model = Model_Designer(functions=[f for f in parsed_qmod.functions if f.name != \"main\"] + [new_main])\n",
    "    return new_model.get_model()\n",
    "\n",
    "\n",
    "# Adapting the qmod for the relevant constraints - stage 1\n",
    "max_width_stage_1 = 30\n",
    "max_depth_stage_1 = 3000\n",
    "synthesis_timeout_sec_stage_1 = 90\n",
    "qmod_stage_1 = get_model_with_new_precision(qmod,precision_value_stage_1)\n",
    "qmod_stage_1 = set_constraints(qmod_stage_1,Constraints(max_width=max_width_stage_1,max_depth=max_depth_stage_1))\n",
    "qmod_stage_1 = set_preferences(qmod_stage_1, Preferences(timeout_seconds=synthesis_timeout_sec_stage_1))\n",
    "\n",
    "# Adapting the qmod for the relevant constraints - stage 2\n",
    "max_width_stage_2 = 100\n",
    "max_depth_stage_2 = 30000\n",
    "synthesis_timeout_sec_stage_2 = 180\n",
    "optimization_param = \"depth\"\n",
    "qmod_stage_2 = get_model_with_new_precision(qmod,precision_value_stage_2)\n",
    "qmod_stage_2 = set_constraints(qmod_stage_2,Constraints(max_width=max_width_stage_2,max_depth=max_depth_stage_2,optimization_parameter=optimization_param))\n",
    "qmod_stage_2 = set_preferences(qmod_stage_2, Preferences(timeout_seconds=synthesis_timeout_sec_stage_2))\n"
   ]
  },
  {
   "cell_type": "markdown",
   "metadata": {},
   "source": [
    "Now in order to save the deliverables files, you should adapt the following file names including their locations (no need to include the file extensions, i.e. do not add `.qprog`/`.qmod` at the end):"
   ]
  },
  {
   "cell_type": "code",
   "execution_count": 431,
   "metadata": {},
   "outputs": [],
   "source": [
    "# Files names (no extensions needed!)\n",
    "file_name_qmod = 'qmod_default' #TODO change to your file_name\n",
    "file_name_qprog_stage_1 = 'qprog_stage_1_default' #TODO change to your file_name\n",
    "file_name_qprog_stage_2 = 'qprog_stage_2_default' #TODO change to your file_name"
   ]
  },
  {
   "cell_type": "markdown",
   "metadata": {},
   "source": [
    "Run the following cell to save the relevant deliverables:\n",
    "1. Your model (`.qmod` file)\n",
    "2. Your quantum program for stage 1 with the corresponding precision (`.qprog` file)\n",
    "3. Your quantum program for stage 2 with the corresponding precision (`.qprog` file)"
   ]
  },
  {
   "cell_type": "code",
   "execution_count": 432,
   "metadata": {},
   "outputs": [],
   "source": [
    "def save_new_file(program_to_save,file_name):\n",
    "    '''\n",
    "    A simple function that saves your code as a text file\n",
    "    '''\n",
    "    file = open(file_name,\"w\")\n",
    "    file.write(program_to_save)\n",
    "    file.close()\n",
    "\n",
    "\n",
    "# Saving the qmod\n",
    "save_new_file(qmod, file_name_qmod+'.qmod') # You need to submit this file\n",
    "\n",
    "# Save the qprof of stage 1\n",
    "qprog_stage_1 = synthesize(qmod_stage_1)\n",
    "save_new_file(qprog_stage_1, file_name_qprog_stage_1+'.qprog') # You need to submit this file\n",
    "\n",
    "# Save the qprog of stage 2\n",
    "qprog_stage_2 = synthesize(qmod_stage_2)\n",
    "save_new_file(qprog_stage_2, file_name_qprog_stage_2+'.qprog') # You need to submit this file"
   ]
  },
  {
   "cell_type": "markdown",
   "metadata": {},
   "source": [
    "It's worth checking out your quantum programs by viewing them:"
   ]
  },
  {
   "cell_type": "code",
   "execution_count": 386,
   "metadata": {},
   "outputs": [
    {
     "name": "stdout",
     "output_type": "stream",
     "text": [
      "Opening: https://platform.classiq.io/circuit/9f3dafc3-f8dd-43e4-9075-2f426c9a8bc7?version=0.36.1\n"
     ]
    }
   ],
   "source": [
    "show(qprog_stage_1)"
   ]
  },
  {
   "cell_type": "code",
   "execution_count": 85,
   "metadata": {},
   "outputs": [
    {
     "name": "stdout",
     "output_type": "stream",
     "text": [
      "Opening: https://platform.classiq.io/circuit/b2cc7d25-e284-468d-aee9-998b14ca5bf7?version=0.36.1\n"
     ]
    }
   ],
   "source": [
    "show(qprog_stage_2)"
   ]
  },
  {
   "cell_type": "markdown",
   "metadata": {},
   "source": [
    "### Evaluate Your Results"
   ]
  },
  {
   "cell_type": "markdown",
   "metadata": {},
   "source": [
    "Evaluate the results of stage 1:\n",
    "\n",
    "**NOTE!** \n",
    "- With the `aer_simulator` you can simulate up to 25 qubits circuit\n",
    "- With the `nvidia_state_vector_simulator` you can simulate up to 30 qubits circuit, but you can use it up to 10 times, so make sure to use it wisely"
   ]
  },
  {
   "cell_type": "code",
   "execution_count": 433,
   "metadata": {},
   "outputs": [
    {
     "name": "stdout",
     "output_type": "stream",
     "text": [
      "Synthesizing quantum program stage 1 with the execution preferences\n",
      "Synthesized circuit width: 28, depth: 1305\n",
      "Executing the quantum program\n",
      "{'x': 0.0, 'y': 0.015625}\n",
      "{'x': 0.03125, 'y': 0.046630859375}\n",
      "{'x': 0.0625, 'y': 0.0771484375}\n",
      "{'x': 0.09375, 'y': 0.107177734375}\n",
      "{'x': 0.125, 'y': 0.13671875}\n",
      "{'x': 0.15625, 'y': 0.165771484375}\n",
      "{'x': 0.1875, 'y': 0.1943359375}\n",
      "{'x': 0.21875, 'y': 0.222412109375}\n",
      "{'x': 0.25, 'y': 0.25}\n",
      "{'x': 0.28125, 'y': 0.277099609375}\n",
      "{'x': 0.3125, 'y': 0.3037109375}\n",
      "{'x': 0.34375, 'y': 0.329833984375}\n",
      "{'x': 0.375, 'y': 0.35546875}\n",
      "{'x': 0.40625, 'y': 0.380615234375}\n",
      "{'x': 0.4375, 'y': 0.4052734375}\n",
      "{'x': 0.46875, 'y': 0.429443359375}\n",
      "{'x': 0.5, 'y': 0.453125}\n",
      "{'x': 0.53125, 'y': 0.476318359375}\n",
      "{'x': 0.5625, 'y': 0.4990234375}\n",
      "{'x': 0.59375, 'y': 0.521240234375}\n",
      "{'x': 0.625, 'y': 0.54296875}\n",
      "{'x': 0.65625, 'y': 0.564208984375}\n",
      "{'x': 0.6875, 'y': 0.5849609375}\n",
      "{'x': 0.71875, 'y': 0.605224609375}\n",
      "{'x': 0.75, 'y': 0.625}\n",
      "{'x': 0.78125, 'y': 0.644287109375}\n",
      "{'x': 0.8125, 'y': 0.6630859375}\n",
      "{'x': 0.84375, 'y': 0.681396484375}\n",
      "{'x': 0.875, 'y': 0.69921875}\n",
      "{'x': 0.90625, 'y': 0.716552734375}\n",
      "{'x': 0.9375, 'y': 0.7333984375}\n",
      "{'x': 0.96875, 'y': 0.749755859375}\n",
      "Results of stage 1 \n",
      " Max distance =  0.03286392354888268\n"
     ]
    }
   ],
   "source": [
    "\n",
    "def evaluate_score_stage_1(results, user_input_precision):\n",
    "\n",
    "    # The array of values the code is compared against \n",
    "    calculated_precision = 10\n",
    "    domain = np.arange(0, 1, 1/ 2**calculated_precision)\n",
    "    expected_y = np.tanh(domain)\n",
    "    \n",
    "    # Sort the results according to the values of x\n",
    "    parsed_counts = sorted(results[0].value.parsed_counts, key=lambda x: x.state[\"x\"])\n",
    "    for tuple in parsed_counts: print(tuple.state)\n",
    "\n",
    "    # Form the relevant dictionary with values of 'x' and 'y'\n",
    "    results_dict = {s.state['x']: s.state['y'] for s in parsed_counts}\n",
    "\n",
    "    # Verify all strings were sampled, also no superpositions\n",
    "    assert len(results_dict) == 2 ** user_input_precision \n",
    "\n",
    "    # Comparing to the users results\n",
    "    measured_y = []\n",
    "    for x_val in domain:\n",
    "        # The y value that is assesd at x_val is the y value of the first x the user has such that x<x_val\n",
    "        x_val_floored = int(x_val * (2**user_input_precision)) / (2**user_input_precision)\n",
    "        measured_y.append(results_dict[x_val_floored])\n",
    "\n",
    "    # The metric asseses what's the largest distancce between the expected value and the measured value, the smallest the better\n",
    "    max_distance = np.max(np.abs(expected_y - np.array(measured_y)))\n",
    "    return max_distance\n",
    "\n",
    "def print_depth_width(quantum_program):\n",
    "    generated_circuit = GeneratedCircuit.parse_obj(json.loads(quantum_program))\n",
    "    print(f\"Synthesized circuit width: {generated_circuit.data.width}, depth: {generated_circuit.transpiled_circuit.depth}\")\n",
    "\n",
    "# Execution parameters\n",
    "num_shots = 1000\n",
    "backend_name = \"nvidia_state_vector_simulator\" # \"aer_simulator\", \"nvidia_state_vector_simulator\"\n",
    "\n",
    "qmod_stage_1 = set_execution_preferences(qmod_stage_1, \n",
    "                                        ExecutionPreferences(\n",
    "                                            num_shots=1000,  # The number of shots is a hyperparameter of the algorithm\n",
    "                                            backend_preferences=ClassiqBackendPreferences(\n",
    "                                                                    backend_name=backend_name))) #aer_simulator / nvidia_state_vector_simulator\n",
    "print('Synthesizing quantum program stage 1 with the execution preferences')\n",
    "qprog_stage_1 = synthesize(qmod_stage_1)\n",
    "print_depth_width(qprog_stage_1)\n",
    "print('Executing the quantum program')\n",
    "results = execute(qprog_stage_1).result()\n",
    "print(\"Results of stage 1 \\n Max distance = \", evaluate_score_stage_1(results, precision_value_stage_1))"
   ]
  },
  {
   "cell_type": "markdown",
   "metadata": {},
   "source": [
    "Evluate the results of stage 2:"
   ]
  },
  {
   "cell_type": "code",
   "execution_count": 250,
   "metadata": {},
   "outputs": [
    {
     "name": "stdout",
     "output_type": "stream",
     "text": [
      "\n",
      "Results of stage 2 \n",
      "Precision = 800, Circuit depth = 4795\n"
     ]
    }
   ],
   "source": [
    "generated_circuit = GeneratedCircuit.parse_obj(json.loads(qprog_stage_2))\n",
    "print(f'\\nResults of stage 2 \\nPrecision = {precision_value_stage_2}, Circuit depth = {generated_circuit.transpiled_circuit.depth}')"
   ]
  },
  {
   "cell_type": "markdown",
   "metadata": {},
   "source": [
    "## Cheat Sheet"
   ]
  },
  {
   "cell_type": "raw",
   "metadata": {},
   "source": []
  },
  {
   "cell_type": "markdown",
   "metadata": {},
   "source": [
    "\n",
    "\n"
   ]
  }
 ],
 "metadata": {
  "kernelspec": {
   "display_name": "Python 3 (ipykernel)",
   "language": "python",
   "name": "python3"
  },
  "language_info": {
   "codemirror_mode": {
    "name": "ipython",
    "version": 3
   },
   "file_extension": ".py",
   "mimetype": "text/x-python",
   "name": "python",
   "nbconvert_exporter": "python",
   "pygments_lexer": "ipython3",
   "version": "3.11.2"
  },
  "vscode": {
   "interpreter": {
    "hash": "39f2fb914d68d910e6a44db3a048977f45af665714e1ed570fe3896698105d3f"
   }
  }
 },
 "nbformat": 4,
 "nbformat_minor": 2
}
